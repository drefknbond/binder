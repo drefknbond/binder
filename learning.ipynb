{
 "cells": [
  {
   "cell_type": "markdown",
   "metadata": {},
   "source": [
    "# Learning Notebook\n",
    "\n",
    "## This page is my notebook to show my progress while learning Python\n",
    "\n",
    "* Python Basics\n",
    "* Numpy\n",
    "* Anaconda\n",
    "* Jupyter Notebook"
   ]
  },
  {
   "cell_type": "markdown",
   "metadata": {},
   "source": [
    "# Reading files Get Communication"
   ]
  },
  {
   "cell_type": "code",
   "execution_count": 3,
   "metadata": {},
   "outputs": [
    {
     "name": "stdout",
     "output_type": "stream",
     "text": [
      "Line Count: 1910\n"
     ]
    }
   ],
   "source": [
    "#not reading files, get communication(opening), just counting the lines\n",
    "fhand=open('mbox-short.txt')\n",
    "count=0\n",
    "for line in fhand:\n",
    "    count=count+1\n",
    "print('Line Count:', count)\n",
    "\n",
    "\n"
   ]
  },
  {
   "cell_type": "code",
   "execution_count": 4,
   "metadata": {},
   "outputs": [
    {
     "name": "stdout",
     "output_type": "stream",
     "text": [
      "What is your name\n",
      "me\n",
      "['me']\n"
     ]
    }
   ],
   "source": [
    "#simple append to list\n",
    "family=[]\n",
    "#famlist=list(family)\n",
    "#famlist.append(inp)\n",
    "#print(family)\n",
    "people=0\n",
    "inp=input('What is your name\\n')\n",
    "family.append(inp)\n",
    "print(family)  \n",
    "#print(famlist)"
   ]
  },
  {
   "cell_type": "code",
   "execution_count": 5,
   "metadata": {},
   "outputs": [
    {
     "name": "stdout",
     "output_type": "stream",
     "text": [
      "Name Please?\n",
      "me\n",
      "Temp Please?\n",
      "98.6\n",
      "\n",
      "Name:Me,Temp:98.6\n",
      "Name:me,Temp:98.6\n",
      "Line Count: 0\n"
     ]
    }
   ],
   "source": [
    "fam=list()\n",
    "temp=list()\n",
    "names=input('Name Please?\\n')\n",
    "fam.append(names)\n",
    "newlist=names\n",
    "namestemp=input('Temp Please?\\n')\n",
    "newlist2=temp\n",
    "float(namestemp) \n",
    "temp.append(namestemp)\n",
    "\n",
    "#open/create file\n",
    "f= open(\"FamTempLog.txt\",\"a\")\n",
    "f.write('\\n')\n",
    "f.write('Name:'+names+','+'Temp:'+namestemp)\n",
    "#f.write(namestemp)\n",
    "#f.close()\n",
    "#print('Name:',newlist,'Temp:',newlist2)\n",
    "\n",
    "f= open(\"FamTempLog.txt\",\"r\")\n",
    "print(f.read())\n",
    "#f.close()\n",
    "\n",
    "count=0\n",
    "for line in f:\n",
    "    count=count+1\n",
    "print('Line Count:', count)\n",
    "#print(newlist[:2])\n"
   ]
  },
  {
   "cell_type": "code",
   "execution_count": null,
   "metadata": {},
   "outputs": [],
   "source": []
  }
 ],
 "metadata": {
  "kernelspec": {
   "display_name": "Python 3",
   "language": "python",
   "name": "python3"
  },
  "language_info": {
   "codemirror_mode": {
    "name": "ipython",
    "version": 3
   },
   "file_extension": ".py",
   "mimetype": "text/x-python",
   "name": "python",
   "nbconvert_exporter": "python",
   "pygments_lexer": "ipython3",
   "version": "3.8.3"
  }
 },
 "nbformat": 4,
 "nbformat_minor": 4
}
