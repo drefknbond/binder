{
 "cells": [
  {
   "cell_type": "markdown",
   "metadata": {},
   "source": [
    "# Dictionary Lesson\n",
    "##### simple dictionary adding key pair\n",
    "##### printing how many in dictionary"
   ]
  },
  {
   "cell_type": "code",
   "execution_count": 35,
   "metadata": {},
   "outputs": [
    {
     "name": "stdout",
     "output_type": "stream",
     "text": [
      "Keys: a \n",
      " Value 1\n",
      "Keys: b \n",
      " Value 2\n",
      "Keys: People \n",
      " Value 100\n",
      "Keys: f \n",
      " Value 6\n",
      "\n",
      "\n",
      "{'a': 1, 'b': 2, 'People': 100, 'f': '6'}\n",
      "\n",
      "\n",
      "4 :Key Pair in Dictionary d\n"
     ]
    }
   ],
   "source": [
    "d={'a':1,'b':2,\"People\":100}     #make dictionary\n",
    "d['f']='6'                       #added key pair to dictionary \n",
    "for key,value in d.items():      #loop through 2 values- key pairs in dictionary \n",
    "    print('Keys:',key,'\\n','Value',value)\n",
    "print('\\n') \n",
    "print(d)                          #dictionary to show added key p\n",
    "print('\\n' ) \n",
    "print(len(d),':Key Pair in Dictionary d')   #how many items in dictionary "
   ]
  },
  {
   "cell_type": "code",
   "execution_count": null,
   "metadata": {},
   "outputs": [],
   "source": []
  }
 ],
 "metadata": {
  "kernelspec": {
   "display_name": "Python 3",
   "language": "python",
   "name": "python3"
  },
  "language_info": {
   "codemirror_mode": {
    "name": "ipython",
    "version": 3
   },
   "file_extension": ".py",
   "mimetype": "text/x-python",
   "name": "python",
   "nbconvert_exporter": "python",
   "pygments_lexer": "ipython3",
   "version": "3.8.3"
  }
 },
 "nbformat": 4,
 "nbformat_minor": 4
}
