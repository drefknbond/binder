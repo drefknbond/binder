{
 "cells": [
  {
   "cell_type": "markdown",
   "metadata": {},
   "source": [
    "# Dictionary Lesson\n",
    "##### simple dictionary adding key pair\n",
    "##### printing how many in dictionary"
   ]
  },
  {
   "cell_type": "code",
   "execution_count": null,
   "metadata": {},
   "outputs": [],
   "source": [
    "d={'a':1,'b':2,\"People\":100}\n",
    "d['f']='6'  \n",
    "inpkey=input(\"What's your Key?\\n\")\n",
    "inpvalue=input(\"What's your value?\\n\")\n",
    "d[inpkey]=inpvalue\n",
    "for key,value in d.items():\n",
    "    print('Keys:',key,'\\n','Value:',value)\n",
    "print('\\n')\n",
    "print(d)\n",
    "print('\\n' )\n",
    "print(len(d),': Key Pair in Dictionary')"
   ]
  }
 ],
 "metadata": {
  "kernelspec": {
   "display_name": "Python 3",
   "language": "python",
   "name": "python3"
  },
  "language_info": {
   "codemirror_mode": {
    "name": "ipython",
    "version": 3
   },
   "file_extension": ".py",
   "mimetype": "text/x-python",
   "name": "python",
   "nbconvert_exporter": "python",
   "pygments_lexer": "ipython3",
   "version": "3.8.3"
  }
 },
 "nbformat": 4,
 "nbformat_minor": 4
}
