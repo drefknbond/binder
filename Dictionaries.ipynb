{
 "cells": [
  {
   "cell_type": "markdown",
   "metadata": {},
   "source": [
    "# Dictionary Lesson\n",
    "##### simple dictionary adding key pair\n",
    "##### printing how many in dictionary"
   ]
  },
  {
   "cell_type": "code",
   "execution_count": 7,
   "metadata": {},
   "outputs": [
    {
     "name": "stdout",
     "output_type": "stream",
     "text": [
      "What's your Key?\n",
      "orange\n",
      "What's your Value?\n",
      "6\n",
      "Keys: orange \n",
      " Value 6\n",
      "\n",
      "\n",
      "{'a': 1, 'b': 2, 'c': 3, 'f': 10, 'orange': '6'}\n",
      "\n",
      "\n",
      "5 :Key Pair in Dictionary d\n"
     ]
    }
   ],
   "source": [
    "d={'a':1,'b':2,'c':3,'f':10}\n",
    "inpkey=input(\"What's your Key?\\n\")\n",
    "inpvalue=input(\"What's your Value?\\n\")\n",
    "ik=inpkey\n",
    "iv=inpvalue\n",
    "d[ik]=iv\n",
    "print('Keys:',inpkey,'\\n','Value:',inpvalue)\n",
    "print('\\n') \n",
    "print(d)                          #dictionary to show added key p\n",
    "print('\\n' ) \n",
    "print(len(d),':Key Pair in Dictionary d')   #how many items in dictionary "
   ]
  },
  {
   "cell_type": "code",
   "execution_count": null,
   "metadata": {},
   "outputs": [],
   "source": []
  }
 ],
 "metadata": {
  "kernelspec": {
   "display_name": "Python 3",
   "language": "python",
   "name": "python3"
  },
  "language_info": {
   "codemirror_mode": {
    "name": "ipython",
    "version": 3
   },
   "file_extension": ".py",
   "mimetype": "text/x-python",
   "name": "python",
   "nbconvert_exporter": "python",
   "pygments_lexer": "ipython3",
   "version": "3.8.3"
  }
 },
 "nbformat": 4,
 "nbformat_minor": 4
}
