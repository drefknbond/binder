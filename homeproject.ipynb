{
 "cells": [
  {
   "cell_type": "code",
   "execution_count": 50,
   "metadata": {},
   "outputs": [
    {
     "name": "stdout",
     "output_type": "stream",
     "text": [
      "What is your name\n",
      "kk\n",
      "['kk']\n",
      "1\n"
     ]
    }
   ],
   "source": [
    "family=[]\n",
    "#famlist=list(family)\n",
    "#famlist.append(inp)\n",
    "#print(family)\n",
    "people=0\n",
    "inp=input('What is your name\\n')\n",
    "family.append(inp)\n",
    "print(family)\n",
    "for item in family:\n",
    "    people=people+1\n",
    "    people=int(people)\n",
    "    print(people)\n",
    "\n",
    "\n",
    "\n",
    "    \n",
    "    \n",
    "#print(famlist)\n",
    "\n",
    "\n",
    "\n",
    "\n",
    "    "
   ]
  },
  {
   "cell_type": "code",
   "execution_count": 49,
   "metadata": {},
   "outputs": [
    {
     "name": "stdout",
     "output_type": "stream",
     "text": [
      "Line Count: 1910\n"
     ]
    }
   ],
   "source": [
    "#not reading files, get communication(opening), just counting the lines\n",
    "fhand=open('mbox-short.txt')\n",
    "count=0\n",
    "for line in fhand:\n",
    "    count=count+1\n",
    "print('Line Count:', count)\n",
    "\n",
    "\n"
   ]
  },
  {
   "cell_type": "code",
   "execution_count": 12,
   "metadata": {
    "scrolled": true
   },
   "outputs": [
    {
     "name": "stdout",
     "output_type": "stream",
     "text": [
      "Name Please?\n",
      "Wish\n",
      "Temp Please?\n",
      "34\n",
      "\n",
      "Name:Andre',Temp:98.6\n",
      "Name:Wife,Temp:98.6\n",
      "Name:Kid1,Temp:100\n",
      "Name:Mom,Temp:98\n",
      "Name:Mom,Temp:98\n",
      "Name:Dad,Temp:98\n",
      "Name:Dad,Temp:98\n",
      "Name:Girl,Temp:101\n",
      "Name:Boss,Temp:109\n",
      "Name:Head,Temp:34\n",
      "Name:Feet,Temp:108\n",
      "Name:Meat,Temp:120\n",
      "Name:Hair,Temp:120\n",
      "Name:Knee,Temp:100\n",
      "Name:Wish,Temp:34\n",
      "Line Count: 0\n",
      "Wi\n"
     ]
    }
   ],
   "source": [
    "fam=list()\n",
    "temp=list()\n",
    "names=input('Name Please?\\n')\n",
    "fam.append(names)\n",
    "newlist=names\n",
    "namestemp=input('Temp Please?\\n')\n",
    "newlist2=temp\n",
    "float(namestemp) \n",
    "temp.append(namestemp)\n",
    "\n",
    "#open/create file\n",
    "f= open(\"FamTempLog.txt\",\"a\")\n",
    "f.write('\\n')\n",
    "f.write('Name:'+names+','+'Temp:'+namestemp)\n",
    "#f.write(namestemp)\n",
    "#f.close()\n",
    "#print('Name:',newlist,'Temp:',newlist2)\n",
    "\n",
    "f= open(\"FamTempLog.txt\",\"r\")\n",
    "print(f.read())\n",
    "#f.close()\n",
    "\n",
    "count=0\n",
    "for line in f:\n",
    "    count=count+1\n",
    "print('Line Count:', count)\n",
    "print(newlist[:2])\n"
   ]
  },
  {
   "cell_type": "code",
   "execution_count": null,
   "metadata": {},
   "outputs": [],
   "source": []
  }
 ],
 "metadata": {
  "kernelspec": {
   "display_name": "Python 3",
   "language": "python",
   "name": "python3"
  },
  "language_info": {
   "codemirror_mode": {
    "name": "ipython",
    "version": 3
   },
   "file_extension": ".py",
   "mimetype": "text/x-python",
   "name": "python",
   "nbconvert_exporter": "python",
   "pygments_lexer": "ipython3",
   "version": "3.8.3"
  }
 },
 "nbformat": 4,
 "nbformat_minor": 4
}
